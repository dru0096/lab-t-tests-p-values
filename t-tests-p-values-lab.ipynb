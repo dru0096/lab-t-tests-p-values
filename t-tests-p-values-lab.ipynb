{
 "cells": [
  {
   "cell_type": "code",
   "execution_count": 1,
   "id": "e73b54ed",
   "metadata": {},
   "outputs": [],
   "source": [
    "import pandas as pd\n",
    "import numpy as np\n",
    "import scipy.stats as st\n",
    "import matplotlib.pyplot as plt\n",
    "import seaborn as sns"
   ]
  },
  {
   "cell_type": "markdown",
   "id": "035b3d9f",
   "metadata": {},
   "source": [
    "### One tailed t-test - \n",
    "In a packing plant, a machine packs cartons with jars. It is supposed that a new machine will pack faster on the average than the machine currently used. To test that hypothesis, the times it takes each machine to pack ten cartons are recorded. \n",
    "\n",
    "The results, in seconds, are shown in the tables in the file files_for_lab/machine.txt. \n",
    "\n",
    "Assume that there is sufficient evidence to conduct the t test, does the data provide sufficient evidence to show if one machine is better than the other?"
   ]
  },
  {
   "cell_type": "markdown",
   "id": "a684771d",
   "metadata": {},
   "source": [
    "### H0  = mean speed of new machines >= old machine\n",
    "### H1 = mean speed of new machines < old machine"
   ]
  },
  {
   "cell_type": "code",
   "execution_count": 15,
   "id": "afe70e80",
   "metadata": {},
   "outputs": [
    {
     "data": {
      "text/html": [
       "<div>\n",
       "<style scoped>\n",
       "    .dataframe tbody tr th:only-of-type {\n",
       "        vertical-align: middle;\n",
       "    }\n",
       "\n",
       "    .dataframe tbody tr th {\n",
       "        vertical-align: top;\n",
       "    }\n",
       "\n",
       "    .dataframe thead th {\n",
       "        text-align: right;\n",
       "    }\n",
       "</style>\n",
       "<table border=\"1\" class=\"dataframe\">\n",
       "  <thead>\n",
       "    <tr style=\"text-align: right;\">\n",
       "      <th></th>\n",
       "      <th>New Machine</th>\n",
       "      <th>Old Machine</th>\n",
       "    </tr>\n",
       "  </thead>\n",
       "  <tbody>\n",
       "    <tr>\n",
       "      <th>0</th>\n",
       "      <td>42.1</td>\n",
       "      <td>42.7</td>\n",
       "    </tr>\n",
       "    <tr>\n",
       "      <th>1</th>\n",
       "      <td>41.0</td>\n",
       "      <td>43.6</td>\n",
       "    </tr>\n",
       "    <tr>\n",
       "      <th>2</th>\n",
       "      <td>41.3</td>\n",
       "      <td>43.8</td>\n",
       "    </tr>\n",
       "    <tr>\n",
       "      <th>3</th>\n",
       "      <td>41.8</td>\n",
       "      <td>43.3</td>\n",
       "    </tr>\n",
       "    <tr>\n",
       "      <th>4</th>\n",
       "      <td>42.4</td>\n",
       "      <td>42.5</td>\n",
       "    </tr>\n",
       "    <tr>\n",
       "      <th>5</th>\n",
       "      <td>42.8</td>\n",
       "      <td>43.5</td>\n",
       "    </tr>\n",
       "    <tr>\n",
       "      <th>6</th>\n",
       "      <td>43.2</td>\n",
       "      <td>43.1</td>\n",
       "    </tr>\n",
       "    <tr>\n",
       "      <th>7</th>\n",
       "      <td>42.3</td>\n",
       "      <td>41.7</td>\n",
       "    </tr>\n",
       "    <tr>\n",
       "      <th>8</th>\n",
       "      <td>41.8</td>\n",
       "      <td>44.0</td>\n",
       "    </tr>\n",
       "    <tr>\n",
       "      <th>9</th>\n",
       "      <td>42.7</td>\n",
       "      <td>44.1</td>\n",
       "    </tr>\n",
       "  </tbody>\n",
       "</table>\n",
       "</div>"
      ],
      "text/plain": [
       "   New Machine  Old Machine\n",
       "0         42.1         42.7\n",
       "1         41.0         43.6\n",
       "2         41.3         43.8\n",
       "3         41.8         43.3\n",
       "4         42.4         42.5\n",
       "5         42.8         43.5\n",
       "6         43.2         43.1\n",
       "7         42.3         41.7\n",
       "8         41.8         44.0\n",
       "9         42.7         44.1"
      ]
     },
     "execution_count": 15,
     "metadata": {},
     "output_type": "execute_result"
    }
   ],
   "source": [
    "sample_machine_data = pd.read_excel('/Users/devirughani/Desktop/IronHack/Week_7/Day_2/Labs/lab-t-tests-p-values/files_for_lab/machine.csv.xlsx')\n",
    "sample_machine_data "
   ]
  },
  {
   "cell_type": "code",
   "execution_count": 18,
   "id": "166dfb65",
   "metadata": {},
   "outputs": [
    {
     "data": {
      "text/html": [
       "<div>\n",
       "<style scoped>\n",
       "    .dataframe tbody tr th:only-of-type {\n",
       "        vertical-align: middle;\n",
       "    }\n",
       "\n",
       "    .dataframe tbody tr th {\n",
       "        vertical-align: top;\n",
       "    }\n",
       "\n",
       "    .dataframe thead th {\n",
       "        text-align: right;\n",
       "    }\n",
       "</style>\n",
       "<table border=\"1\" class=\"dataframe\">\n",
       "  <thead>\n",
       "    <tr style=\"text-align: right;\">\n",
       "      <th></th>\n",
       "      <th>New Machine</th>\n",
       "      <th>Old Machine</th>\n",
       "      <th>difference</th>\n",
       "    </tr>\n",
       "  </thead>\n",
       "  <tbody>\n",
       "    <tr>\n",
       "      <th>0</th>\n",
       "      <td>42.1</td>\n",
       "      <td>42.7</td>\n",
       "      <td>-0.6</td>\n",
       "    </tr>\n",
       "    <tr>\n",
       "      <th>1</th>\n",
       "      <td>41.0</td>\n",
       "      <td>43.6</td>\n",
       "      <td>-2.6</td>\n",
       "    </tr>\n",
       "    <tr>\n",
       "      <th>2</th>\n",
       "      <td>41.3</td>\n",
       "      <td>43.8</td>\n",
       "      <td>-2.5</td>\n",
       "    </tr>\n",
       "    <tr>\n",
       "      <th>3</th>\n",
       "      <td>41.8</td>\n",
       "      <td>43.3</td>\n",
       "      <td>-1.5</td>\n",
       "    </tr>\n",
       "    <tr>\n",
       "      <th>4</th>\n",
       "      <td>42.4</td>\n",
       "      <td>42.5</td>\n",
       "      <td>-0.1</td>\n",
       "    </tr>\n",
       "    <tr>\n",
       "      <th>5</th>\n",
       "      <td>42.8</td>\n",
       "      <td>43.5</td>\n",
       "      <td>-0.7</td>\n",
       "    </tr>\n",
       "    <tr>\n",
       "      <th>6</th>\n",
       "      <td>43.2</td>\n",
       "      <td>43.1</td>\n",
       "      <td>0.1</td>\n",
       "    </tr>\n",
       "    <tr>\n",
       "      <th>7</th>\n",
       "      <td>42.3</td>\n",
       "      <td>41.7</td>\n",
       "      <td>0.6</td>\n",
       "    </tr>\n",
       "    <tr>\n",
       "      <th>8</th>\n",
       "      <td>41.8</td>\n",
       "      <td>44.0</td>\n",
       "      <td>-2.2</td>\n",
       "    </tr>\n",
       "    <tr>\n",
       "      <th>9</th>\n",
       "      <td>42.7</td>\n",
       "      <td>44.1</td>\n",
       "      <td>-1.4</td>\n",
       "    </tr>\n",
       "  </tbody>\n",
       "</table>\n",
       "</div>"
      ],
      "text/plain": [
       "   New Machine  Old Machine  difference\n",
       "0         42.1         42.7        -0.6\n",
       "1         41.0         43.6        -2.6\n",
       "2         41.3         43.8        -2.5\n",
       "3         41.8         43.3        -1.5\n",
       "4         42.4         42.5        -0.1\n",
       "5         42.8         43.5        -0.7\n",
       "6         43.2         43.1         0.1\n",
       "7         42.3         41.7         0.6\n",
       "8         41.8         44.0        -2.2\n",
       "9         42.7         44.1        -1.4"
      ]
     },
     "execution_count": 18,
     "metadata": {},
     "output_type": "execute_result"
    }
   ],
   "source": [
    "sample_machine_data['difference'] = sample_machine_data ['New Machine']-sample_machine_data ['Old Machine']\n",
    "sample_machine_data "
   ]
  },
  {
   "cell_type": "code",
   "execution_count": 22,
   "id": "26cc523c",
   "metadata": {},
   "outputs": [
    {
     "data": {
      "text/plain": [
       "(-1.0900000000000012, 1.125907041751967)"
      ]
     },
     "execution_count": 22,
     "metadata": {},
     "output_type": "execute_result"
    }
   ],
   "source": [
    "sample_diff_mean, sample_diff_std = sample_machine_data['difference'].mean(), sample_machine_data['difference'].std(ddof=1)\n",
    "sample_diff_mean, sample_diff_std"
   ]
  },
  {
   "cell_type": "code",
   "execution_count": 24,
   "id": "dc6fff6c",
   "metadata": {},
   "outputs": [
    {
     "name": "stdout",
     "output_type": "stream",
     "text": [
      "The mean of our samples differences is: -1.09\n",
      "The standard deviation of our samples differences is: 1.13\n",
      "Our t statistic is: -3.06\n"
     ]
    }
   ],
   "source": [
    "t = sample_diff_mean / ( sample_diff_std / np.sqrt(sample_machine_data.shape[0]) )\n",
    "print(\"The mean of our samples differences is: {:.2f}\".format(sample_diff_mean))\n",
    "print(\"The standard deviation of our samples differences is: {:.2f}\".format(sample_diff_std))\n",
    "print(\"Our t statistic is: {:.2f}\".format(t))"
   ]
  },
  {
   "cell_type": "code",
   "execution_count": 28,
   "id": "cec99505",
   "metadata": {},
   "outputs": [
    {
     "data": {
      "text/plain": [
       "-1.8331129326536337"
      ]
     },
     "execution_count": 28,
     "metadata": {},
     "output_type": "execute_result"
    }
   ],
   "source": [
    "tc = st.t.ppf(0.05,df= sample_machine_data.shape[0] - 1)\n",
    "tc"
   ]
  },
  {
   "cell_type": "code",
   "execution_count": 26,
   "id": "914521ff",
   "metadata": {},
   "outputs": [
    {
     "data": {
      "text/plain": [
       "0.006770167825816246"
      ]
     },
     "execution_count": 26,
     "metadata": {},
     "output_type": "execute_result"
    }
   ],
   "source": [
    "st.t.cdf(t,df = sample_machine_data.shape[0] - 1)"
   ]
  },
  {
   "cell_type": "markdown",
   "id": "d2a02c08",
   "metadata": {},
   "source": [
    "T-statistic (-3.06) is < tc (-1.83..) \n",
    "\n",
    "CDF/p-value is much smaller than alpha too.\n",
    "\n",
    "Hence we can reject the null hypothesis that new machines are faster than old machines."
   ]
  },
  {
   "cell_type": "markdown",
   "id": "5f97053e",
   "metadata": {},
   "source": [
    "## Matched Pairs Test\n",
    "- In this challenge we will compare dependent samples of data describing our Pokemon (file files_for_lab/pokemon.csv). Our goal is to see whether there is a significant difference between each Pokemon's defense and attack scores. Our hypothesis is that the defense and attack scores are equal. Compare the two columns to see if there is a statistically significant difference between them and comment your result.\n",
    "\n",
    "### H0  = mean defense score = mean attack score\n",
    "### H1 = mean defense score != mean attack score"
   ]
  },
  {
   "cell_type": "code",
   "execution_count": 34,
   "id": "d458b286",
   "metadata": {},
   "outputs": [
    {
     "data": {
      "text/html": [
       "<div>\n",
       "<style scoped>\n",
       "    .dataframe tbody tr th:only-of-type {\n",
       "        vertical-align: middle;\n",
       "    }\n",
       "\n",
       "    .dataframe tbody tr th {\n",
       "        vertical-align: top;\n",
       "    }\n",
       "\n",
       "    .dataframe thead th {\n",
       "        text-align: right;\n",
       "    }\n",
       "</style>\n",
       "<table border=\"1\" class=\"dataframe\">\n",
       "  <thead>\n",
       "    <tr style=\"text-align: right;\">\n",
       "      <th></th>\n",
       "      <th>#</th>\n",
       "      <th>Name</th>\n",
       "      <th>Type 1</th>\n",
       "      <th>Type 2</th>\n",
       "      <th>Total</th>\n",
       "      <th>HP</th>\n",
       "      <th>Attack</th>\n",
       "      <th>Defense</th>\n",
       "      <th>Sp. Atk</th>\n",
       "      <th>Sp. Def</th>\n",
       "      <th>Speed</th>\n",
       "      <th>Generation</th>\n",
       "      <th>Legendary</th>\n",
       "    </tr>\n",
       "  </thead>\n",
       "  <tbody>\n",
       "    <tr>\n",
       "      <th>0</th>\n",
       "      <td>1</td>\n",
       "      <td>Bulbasaur</td>\n",
       "      <td>Grass</td>\n",
       "      <td>Poison</td>\n",
       "      <td>318</td>\n",
       "      <td>45</td>\n",
       "      <td>49</td>\n",
       "      <td>49</td>\n",
       "      <td>65</td>\n",
       "      <td>65</td>\n",
       "      <td>45</td>\n",
       "      <td>1</td>\n",
       "      <td>False</td>\n",
       "    </tr>\n",
       "    <tr>\n",
       "      <th>1</th>\n",
       "      <td>2</td>\n",
       "      <td>Ivysaur</td>\n",
       "      <td>Grass</td>\n",
       "      <td>Poison</td>\n",
       "      <td>405</td>\n",
       "      <td>60</td>\n",
       "      <td>62</td>\n",
       "      <td>63</td>\n",
       "      <td>80</td>\n",
       "      <td>80</td>\n",
       "      <td>60</td>\n",
       "      <td>1</td>\n",
       "      <td>False</td>\n",
       "    </tr>\n",
       "    <tr>\n",
       "      <th>2</th>\n",
       "      <td>3</td>\n",
       "      <td>Venusaur</td>\n",
       "      <td>Grass</td>\n",
       "      <td>Poison</td>\n",
       "      <td>525</td>\n",
       "      <td>80</td>\n",
       "      <td>82</td>\n",
       "      <td>83</td>\n",
       "      <td>100</td>\n",
       "      <td>100</td>\n",
       "      <td>80</td>\n",
       "      <td>1</td>\n",
       "      <td>False</td>\n",
       "    </tr>\n",
       "    <tr>\n",
       "      <th>3</th>\n",
       "      <td>3</td>\n",
       "      <td>VenusaurMega Venusaur</td>\n",
       "      <td>Grass</td>\n",
       "      <td>Poison</td>\n",
       "      <td>625</td>\n",
       "      <td>80</td>\n",
       "      <td>100</td>\n",
       "      <td>123</td>\n",
       "      <td>122</td>\n",
       "      <td>120</td>\n",
       "      <td>80</td>\n",
       "      <td>1</td>\n",
       "      <td>False</td>\n",
       "    </tr>\n",
       "    <tr>\n",
       "      <th>4</th>\n",
       "      <td>4</td>\n",
       "      <td>Charmander</td>\n",
       "      <td>Fire</td>\n",
       "      <td>NaN</td>\n",
       "      <td>309</td>\n",
       "      <td>39</td>\n",
       "      <td>52</td>\n",
       "      <td>43</td>\n",
       "      <td>60</td>\n",
       "      <td>50</td>\n",
       "      <td>65</td>\n",
       "      <td>1</td>\n",
       "      <td>False</td>\n",
       "    </tr>\n",
       "  </tbody>\n",
       "</table>\n",
       "</div>"
      ],
      "text/plain": [
       "   #                   Name Type 1  Type 2  Total  HP  Attack  Defense  \\\n",
       "0  1              Bulbasaur  Grass  Poison    318  45      49       49   \n",
       "1  2                Ivysaur  Grass  Poison    405  60      62       63   \n",
       "2  3               Venusaur  Grass  Poison    525  80      82       83   \n",
       "3  3  VenusaurMega Venusaur  Grass  Poison    625  80     100      123   \n",
       "4  4             Charmander   Fire     NaN    309  39      52       43   \n",
       "\n",
       "   Sp. Atk  Sp. Def  Speed  Generation  Legendary  \n",
       "0       65       65     45           1      False  \n",
       "1       80       80     60           1      False  \n",
       "2      100      100     80           1      False  \n",
       "3      122      120     80           1      False  \n",
       "4       60       50     65           1      False  "
      ]
     },
     "metadata": {},
     "output_type": "display_data"
    },
    {
     "data": {
      "text/plain": [
       "(800, 13)"
      ]
     },
     "execution_count": 34,
     "metadata": {},
     "output_type": "execute_result"
    }
   ],
   "source": [
    "pokemon_data = pd.read_csv('/Users/devirughani/Desktop/IronHack/Week_7/Day_2/Labs/lab-t-tests-p-values/files_for_lab/pokemon.csv')\n",
    "display(pokemon_data.head())\n",
    "pokemon_data.shape"
   ]
  },
  {
   "cell_type": "code",
   "execution_count": 42,
   "id": "487d1039",
   "metadata": {},
   "outputs": [],
   "source": [
    "pokemon_sample=pokemon_data.sample(30, random_state=1)\n",
    "pokemon_sample=pokemon_sample[['Attack','Defense']]"
   ]
  },
  {
   "cell_type": "code",
   "execution_count": 44,
   "id": "a873f26b",
   "metadata": {},
   "outputs": [
    {
     "data": {
      "text/html": [
       "<div>\n",
       "<style scoped>\n",
       "    .dataframe tbody tr th:only-of-type {\n",
       "        vertical-align: middle;\n",
       "    }\n",
       "\n",
       "    .dataframe tbody tr th {\n",
       "        vertical-align: top;\n",
       "    }\n",
       "\n",
       "    .dataframe thead th {\n",
       "        text-align: right;\n",
       "    }\n",
       "</style>\n",
       "<table border=\"1\" class=\"dataframe\">\n",
       "  <thead>\n",
       "    <tr style=\"text-align: right;\">\n",
       "      <th></th>\n",
       "      <th>Attack</th>\n",
       "      <th>Defense</th>\n",
       "      <th>difference</th>\n",
       "    </tr>\n",
       "  </thead>\n",
       "  <tbody>\n",
       "    <tr>\n",
       "      <th>8</th>\n",
       "      <td>104</td>\n",
       "      <td>78</td>\n",
       "      <td>26</td>\n",
       "    </tr>\n",
       "    <tr>\n",
       "      <th>510</th>\n",
       "      <td>92</td>\n",
       "      <td>75</td>\n",
       "      <td>17</td>\n",
       "    </tr>\n",
       "    <tr>\n",
       "      <th>175</th>\n",
       "      <td>46</td>\n",
       "      <td>34</td>\n",
       "      <td>12</td>\n",
       "    </tr>\n",
       "    <tr>\n",
       "      <th>735</th>\n",
       "      <td>50</td>\n",
       "      <td>58</td>\n",
       "      <td>-8</td>\n",
       "    </tr>\n",
       "    <tr>\n",
       "      <th>242</th>\n",
       "      <td>105</td>\n",
       "      <td>75</td>\n",
       "      <td>30</td>\n",
       "    </tr>\n",
       "  </tbody>\n",
       "</table>\n",
       "</div>"
      ],
      "text/plain": [
       "     Attack  Defense  difference\n",
       "8       104       78          26\n",
       "510      92       75          17\n",
       "175      46       34          12\n",
       "735      50       58          -8\n",
       "242     105       75          30"
      ]
     },
     "execution_count": 44,
     "metadata": {},
     "output_type": "execute_result"
    }
   ],
   "source": [
    "pokemon_sample['difference'] = pokemon_sample['Attack']-pokemon_sample['Defense']\n",
    "pokemon_sample.head()"
   ]
  },
  {
   "cell_type": "code",
   "execution_count": 45,
   "id": "165fc242",
   "metadata": {},
   "outputs": [
    {
     "data": {
      "text/plain": [
       "(2.8, 36.32079294288603)"
      ]
     },
     "execution_count": 45,
     "metadata": {},
     "output_type": "execute_result"
    }
   ],
   "source": [
    "sample_diff_mean, sample_diff_std = pokemon_sample['difference'].mean(), pokemon_sample['difference'].std(ddof=1)\n",
    "sample_diff_mean, sample_diff_std"
   ]
  },
  {
   "cell_type": "code",
   "execution_count": 47,
   "id": "e281b949",
   "metadata": {},
   "outputs": [
    {
     "name": "stdout",
     "output_type": "stream",
     "text": [
      "The mean of our samples differences is: 2.80\n",
      "The standard deviation of our samples differences is: 36.32\n",
      "Our t statistic is: 0.42\n"
     ]
    }
   ],
   "source": [
    "pokemon_t = sample_diff_mean / ( sample_diff_std / np.sqrt(pokemon_sample.shape[0]) )\n",
    "print(\"The mean of our samples differences is: {:.2f}\".format(sample_diff_mean))\n",
    "print(\"The standard deviation of our samples differences is: {:.2f}\".format(sample_diff_std))\n",
    "print(\"Our t statistic is: {:.2f}\".format(pokemon_t))"
   ]
  },
  {
   "cell_type": "code",
   "execution_count": 50,
   "id": "35fddf8f",
   "metadata": {},
   "outputs": [
    {
     "data": {
      "text/plain": [
       "2.045229642132703"
      ]
     },
     "execution_count": 50,
     "metadata": {},
     "output_type": "execute_result"
    }
   ],
   "source": [
    "tc = st.t.ppf((1-(0.05/2)),df= pokemon_sample.shape[0] - 1)\n",
    "tc"
   ]
  },
  {
   "cell_type": "code",
   "execution_count": 52,
   "id": "984b92e4",
   "metadata": {},
   "outputs": [
    {
     "data": {
      "text/plain": [
       "-2.0452296421327034"
      ]
     },
     "execution_count": 52,
     "metadata": {},
     "output_type": "execute_result"
    }
   ],
   "source": [
    "st.t.ppf((0.05/2),df= pokemon_sample.shape[0] - 1)"
   ]
  },
  {
   "cell_type": "code",
   "execution_count": 51,
   "id": "9f6a4e84",
   "metadata": {},
   "outputs": [
    {
     "data": {
      "text/plain": [
       "0.0023574682352490183"
      ]
     },
     "execution_count": 51,
     "metadata": {},
     "output_type": "execute_result"
    }
   ],
   "source": [
    "st.t.cdf(t,df = pokemon_sample.shape[0] - 1)"
   ]
  },
  {
   "cell_type": "code",
   "execution_count": null,
   "id": "63342e20",
   "metadata": {},
   "outputs": [],
   "source": []
  },
  {
   "cell_type": "markdown",
   "id": "e1e53916",
   "metadata": {},
   "source": [
    "The p value is < 0.05/2 (0.025) and therefore we can reject the null hypothesis and state that there is a difference between attack and defense."
   ]
  },
  {
   "cell_type": "markdown",
   "id": "1f9d24f6",
   "metadata": {},
   "source": [
    "## ANOVA Test\n",
    "In this activity, we will look at another example. Your task is to understand the problem and write down all the steps to set up ANOVA. After the next lesson, we will ask you to solve this problem using Python. Here are the steps that you would need to work on: \n",
    "- Null hypothesis \n",
    "- Alternate hypothesis \n",
    "- Level of significance \n",
    "- Test statistic \n",
    "- P-value \n",
    "- F table\n",
    "\n",
    "Suppose you are working as an analyst in a microprocessor chip manufacturing plant. You have been given the task of analyzing a plasma etching process with respect to changing Power (in Watts) of the plasma beam. Data was collected and provided to you to conduct statistical analysis and check if changing the power of the plasma beam has any effect on the etching rate by the machine. You will conduct ANOVA and check if there is any difference in the mean etching rate for different levels of power. \n",
    "\n",
    "- State the null hypothesis\n",
    "- State the alternate hypothesis\n",
    "-  What is the significance level\n",
    "- What are the degrees of freedom of model, error terms, and total DoF\n",
    "\n"
   ]
  },
  {
   "cell_type": "markdown",
   "id": "c4f31f62",
   "metadata": {},
   "source": [
    "### H0  = There is no significant difference between etching rates for different levels of power\n",
    "### H1 = There is a statistically significant difference between etching rates for different levels of power"
   ]
  },
  {
   "cell_type": "code",
   "execution_count": 53,
   "id": "8c9b826c",
   "metadata": {},
   "outputs": [
    {
     "data": {
      "text/html": [
       "<div>\n",
       "<style scoped>\n",
       "    .dataframe tbody tr th:only-of-type {\n",
       "        vertical-align: middle;\n",
       "    }\n",
       "\n",
       "    .dataframe tbody tr th {\n",
       "        vertical-align: top;\n",
       "    }\n",
       "\n",
       "    .dataframe thead th {\n",
       "        text-align: right;\n",
       "    }\n",
       "</style>\n",
       "<table border=\"1\" class=\"dataframe\">\n",
       "  <thead>\n",
       "    <tr style=\"text-align: right;\">\n",
       "      <th></th>\n",
       "      <th>Power</th>\n",
       "      <th>Etching Rate</th>\n",
       "    </tr>\n",
       "  </thead>\n",
       "  <tbody>\n",
       "    <tr>\n",
       "      <th>0</th>\n",
       "      <td>160 W</td>\n",
       "      <td>5.43</td>\n",
       "    </tr>\n",
       "    <tr>\n",
       "      <th>1</th>\n",
       "      <td>180 W</td>\n",
       "      <td>6.24</td>\n",
       "    </tr>\n",
       "    <tr>\n",
       "      <th>2</th>\n",
       "      <td>200 W</td>\n",
       "      <td>8.79</td>\n",
       "    </tr>\n",
       "    <tr>\n",
       "      <th>3</th>\n",
       "      <td>160 W</td>\n",
       "      <td>5.71</td>\n",
       "    </tr>\n",
       "    <tr>\n",
       "      <th>4</th>\n",
       "      <td>180 W</td>\n",
       "      <td>6.71</td>\n",
       "    </tr>\n",
       "  </tbody>\n",
       "</table>\n",
       "</div>"
      ],
      "text/plain": [
       "  Power   Etching Rate\n",
       "0  160 W          5.43\n",
       "1  180 W          6.24\n",
       "2  200 W          8.79\n",
       "3  160 W          5.71\n",
       "4  180 W          6.71"
      ]
     },
     "execution_count": 53,
     "metadata": {},
     "output_type": "execute_result"
    }
   ],
   "source": [
    "anova_test=pd.read_excel('/Users/devirughani/Desktop/IronHack/Week_7/Day_2/Labs/lab-t-tests-p-values/files_for_lab/anova_lab_data.xlsx')\n",
    "anova_test.head()"
   ]
  },
  {
   "cell_type": "code",
   "execution_count": 62,
   "id": "82ca8b4a",
   "metadata": {},
   "outputs": [
    {
     "data": {
      "text/html": [
       "<div>\n",
       "<style scoped>\n",
       "    .dataframe tbody tr th:only-of-type {\n",
       "        vertical-align: middle;\n",
       "    }\n",
       "\n",
       "    .dataframe tbody tr th {\n",
       "        vertical-align: top;\n",
       "    }\n",
       "\n",
       "    .dataframe thead th {\n",
       "        text-align: right;\n",
       "    }\n",
       "</style>\n",
       "<table border=\"1\" class=\"dataframe\">\n",
       "  <thead>\n",
       "    <tr style=\"text-align: right;\">\n",
       "      <th></th>\n",
       "      <th>Power</th>\n",
       "      <th>Etching Rate</th>\n",
       "    </tr>\n",
       "  </thead>\n",
       "  <tbody>\n",
       "    <tr>\n",
       "      <th>0</th>\n",
       "      <td>160 W</td>\n",
       "      <td>5.43</td>\n",
       "    </tr>\n",
       "    <tr>\n",
       "      <th>1</th>\n",
       "      <td>180 W</td>\n",
       "      <td>6.24</td>\n",
       "    </tr>\n",
       "    <tr>\n",
       "      <th>2</th>\n",
       "      <td>200 W</td>\n",
       "      <td>8.79</td>\n",
       "    </tr>\n",
       "    <tr>\n",
       "      <th>3</th>\n",
       "      <td>160 W</td>\n",
       "      <td>5.71</td>\n",
       "    </tr>\n",
       "    <tr>\n",
       "      <th>4</th>\n",
       "      <td>180 W</td>\n",
       "      <td>6.71</td>\n",
       "    </tr>\n",
       "  </tbody>\n",
       "</table>\n",
       "</div>"
      ],
      "text/plain": [
       "   Power  Etching Rate\n",
       "0  160 W          5.43\n",
       "1  180 W          6.24\n",
       "2  200 W          8.79\n",
       "3  160 W          5.71\n",
       "4  180 W          6.71"
      ]
     },
     "execution_count": 62,
     "metadata": {},
     "output_type": "execute_result"
    }
   ],
   "source": [
    "anova_test.columns = ['Power', 'Etching Rate']\n",
    "anova_test.head()"
   ]
  },
  {
   "cell_type": "code",
   "execution_count": 57,
   "id": "dbe8da98",
   "metadata": {},
   "outputs": [
    {
     "data": {
      "text/plain": [
       "array(['160 W', '180 W', '200 W'], dtype=object)"
      ]
     },
     "execution_count": 57,
     "metadata": {},
     "output_type": "execute_result"
    }
   ],
   "source": [
    "anova_test['Power'].unique()"
   ]
  },
  {
   "cell_type": "code",
   "execution_count": 61,
   "id": "8a902c69",
   "metadata": {},
   "outputs": [
    {
     "data": {
      "text/html": [
       "<div>\n",
       "<style scoped>\n",
       "    .dataframe tbody tr th:only-of-type {\n",
       "        vertical-align: middle;\n",
       "    }\n",
       "\n",
       "    .dataframe tbody tr th {\n",
       "        vertical-align: top;\n",
       "    }\n",
       "\n",
       "    .dataframe thead th {\n",
       "        text-align: right;\n",
       "    }\n",
       "</style>\n",
       "<table border=\"1\" class=\"dataframe\">\n",
       "  <thead>\n",
       "    <tr style=\"text-align: right;\">\n",
       "      <th></th>\n",
       "      <th>Power</th>\n",
       "      <th>etching_rate_mean</th>\n",
       "      <th>Samples</th>\n",
       "    </tr>\n",
       "  </thead>\n",
       "  <tbody>\n",
       "    <tr>\n",
       "      <th>0</th>\n",
       "      <td>160 W</td>\n",
       "      <td>5.792</td>\n",
       "      <td>5</td>\n",
       "    </tr>\n",
       "    <tr>\n",
       "      <th>1</th>\n",
       "      <td>180 W</td>\n",
       "      <td>6.238</td>\n",
       "      <td>5</td>\n",
       "    </tr>\n",
       "    <tr>\n",
       "      <th>2</th>\n",
       "      <td>200 W</td>\n",
       "      <td>8.318</td>\n",
       "      <td>5</td>\n",
       "    </tr>\n",
       "  </tbody>\n",
       "</table>\n",
       "</div>"
      ],
      "text/plain": [
       "   Power  etching_rate_mean  Samples\n",
       "0  160 W              5.792        5\n",
       "1  180 W              6.238        5\n",
       "2  200 W              8.318        5"
      ]
     },
     "execution_count": 61,
     "metadata": {},
     "output_type": "execute_result"
    }
   ],
   "source": [
    "group_df = anova_test.groupby('Power')['Etching Rate'].agg(etching_rate_mean='mean',Samples='size').reset_index()\n",
    "group_df"
   ]
  },
  {
   "cell_type": "markdown",
   "id": "0307b019",
   "metadata": {},
   "source": [
    "SST:\n",
    "\n",
    "This term computes how much it **deviates each group mean from the global mean** and add the squares of those deviations multiplied by the number of members in the group divided by the number of members minus one.\n"
   ]
  },
  {
   "cell_type": "code",
   "execution_count": 63,
   "id": "d36822dc",
   "metadata": {},
   "outputs": [
    {
     "name": "stdout",
     "output_type": "stream",
     "text": [
      "The value of S2t is 9.09\n"
     ]
    }
   ],
   "source": [
    "S2t = 0\n",
    "for power in anova_test['Power'].unique():\n",
    "    ng = len(anova_test[anova_test['Power'] == power])  \n",
    "    S2t  += ( ( anova_test[anova_test['Power'] == power]['Etching Rate'].mean() - anova_test['Etching Rate'].mean() ) ** 2) * ng\n",
    "S2t /= ( anova_test['Power'].nunique() - 1 )\n",
    "print(\"The value of S2t is {:.2f}\".format(S2t)) "
   ]
  },
  {
   "cell_type": "markdown",
   "id": "3223953b",
   "metadata": {},
   "source": [
    "SSE:\n",
    "\n",
    "This other term, computes **how much every single value of every group deviates from the group mean**.\n",
    "\n",
    "In summary, SST computes the variance of the group means from the global mean, while SSE computes the variance of the values against the global mean."
   ]
  },
  {
   "cell_type": "code",
   "execution_count": 64,
   "id": "93e524dd",
   "metadata": {},
   "outputs": [
    {
     "name": "stdout",
     "output_type": "stream",
     "text": [
      "\n",
      "The value of S2E is 0.25\n"
     ]
    }
   ],
   "source": [
    "S2E = 0\n",
    "for power in anova_test['Power'].unique():\n",
    "    for rate in anova_test[anova_test['Power'] == power]['Etching Rate']:\n",
    "        S2E += ( rate - anova_test[anova_test['Power'] == power]['Etching Rate'].mean() ) ** 2\n",
    "S2E /= ( len(anova_test) - anova_test['Power'].nunique() ) \n",
    "\n",
    "print()\n",
    "print(\"The value of S2E is {:.2f}\".format(S2E))"
   ]
  },
  {
   "cell_type": "code",
   "execution_count": 67,
   "id": "7eeac12b",
   "metadata": {},
   "outputs": [
    {
     "name": "stdout",
     "output_type": "stream",
     "text": [
      "The value of F is 36.88\n"
     ]
    }
   ],
   "source": [
    "F = S2t / S2E\n",
    "print(\"The value of F is {:.2f}\".format(F))"
   ]
  },
  {
   "cell_type": "markdown",
   "id": "c159a13a",
   "metadata": {},
   "source": [
    "The shape of the F distribution depends on two sets of degrees of freedom:  $d_{1}=K-1$ and $d_{2}=N-K$ "
   ]
  },
  {
   "cell_type": "code",
   "execution_count": 68,
   "id": "252a1e6a",
   "metadata": {},
   "outputs": [
    {
     "name": "stdout",
     "output_type": "stream",
     "text": [
      "Number of degrees of freedom d1:  2\n",
      "Number of degrees of freedom d2:  12\n"
     ]
    }
   ],
   "source": [
    "d1 = anova_test['Power'].nunique() - 1\n",
    "d2 = len(anova_test) - anova_test['Power'].nunique()\n",
    "\n",
    "print(\"Number of degrees of freedom d1: \",d1)\n",
    "print(\"Number of degrees of freedom d2: \",d2)"
   ]
  },
  {
   "cell_type": "markdown",
   "id": "ba61ddc4",
   "metadata": {},
   "source": [
    "The probability to get any F value lower or equal to our F can be obtained with the CDF:"
   ]
  },
  {
   "cell_type": "code",
   "execution_count": 69,
   "id": "90f235dc",
   "metadata": {},
   "outputs": [
    {
     "data": {
      "text/plain": [
       "0.9999924934157276"
      ]
     },
     "execution_count": 69,
     "metadata": {},
     "output_type": "execute_result"
    }
   ],
   "source": [
    "st.f.cdf(F,dfn=d1, dfd=d2)"
   ]
  },
  {
   "cell_type": "markdown",
   "id": "628ce4a5",
   "metadata": {},
   "source": [
    "Thus, the probability to get any value smaller or equal to F\n",
    "\n",
    "$$P(x \\le F=36.88)= 0.9999$$"
   ]
  },
  {
   "cell_type": "markdown",
   "id": "16f0ebc4",
   "metadata": {},
   "source": [
    "The opposite is given by"
   ]
  },
  {
   "cell_type": "code",
   "execution_count": 71,
   "id": "02469f91",
   "metadata": {},
   "outputs": [
    {
     "data": {
      "text/plain": [
       "7.5065842723986975e-06"
      ]
     },
     "execution_count": 71,
     "metadata": {},
     "output_type": "execute_result"
    }
   ],
   "source": [
    "1 - st.f.cdf(F,dfn=d1, dfd=d2)"
   ]
  },
  {
   "cell_type": "markdown",
   "id": "b63bfa47",
   "metadata": {},
   "source": [
    "Therefore, the probability to get a value bigger than F is:\n",
    "\n",
    "$$P(x > F) = 1 - P(x \\le F) = so so small < 0.05$$\n",
    "\n",
    "Therefore, we reject the H0"
   ]
  },
  {
   "cell_type": "markdown",
   "id": "06a449ea",
   "metadata": {},
   "source": [
    "The critical value which corresponds to an area of 0.05 is given by:"
   ]
  },
  {
   "cell_type": "code",
   "execution_count": 72,
   "id": "5a2ded61",
   "metadata": {},
   "outputs": [
    {
     "name": "stdout",
     "output_type": "stream",
     "text": [
      "The critical value which corresponds to an area of 0.05 is: 3.89\n"
     ]
    }
   ],
   "source": [
    "Fc = st.f.ppf(1-0.05,dfn=d1, dfd=d2)\n",
    "\n",
    "print(\"The critical value which corresponds to an area of 0.05 is: {:.2f}\".format(Fc))"
   ]
  },
  {
   "cell_type": "markdown",
   "id": "f083c8b0",
   "metadata": {},
   "source": [
    "As our F (36.88) is bigger than the critical value, we reject H0 and can say that the mean etching rates for different power are statistically different."
   ]
  },
  {
   "cell_type": "markdown",
   "id": "d388e170",
   "metadata": {},
   "source": [
    "Doing all in one function using scipy:"
   ]
  },
  {
   "cell_type": "code",
   "execution_count": 74,
   "id": "7481f216",
   "metadata": {},
   "outputs": [
    {
     "name": "stdout",
     "output_type": "stream",
     "text": [
      "F_onewayResult(statistic=36.87895470100505, pvalue=7.506584272358903e-06)\n"
     ]
    }
   ],
   "source": [
    "print(st.f_oneway(anova_test[anova_test['Power'].str.contains(\"160 W\")]['Etching Rate'],anova_test[anova_test['Power'].str.contains(\"180 W\")]['Etching Rate'],\n",
    "                  anova_test[anova_test['Power'].str.contains(\"200 W\")]['Etching Rate']))"
   ]
  },
  {
   "cell_type": "markdown",
   "id": "01c19288",
   "metadata": {},
   "source": [
    "As the p_value is < 0.05 we reject the H0."
   ]
  },
  {
   "cell_type": "code",
   "execution_count": null,
   "id": "db431f0a",
   "metadata": {},
   "outputs": [],
   "source": []
  }
 ],
 "metadata": {
  "kernelspec": {
   "display_name": "Python 3 (ipykernel)",
   "language": "python",
   "name": "python3"
  },
  "language_info": {
   "codemirror_mode": {
    "name": "ipython",
    "version": 3
   },
   "file_extension": ".py",
   "mimetype": "text/x-python",
   "name": "python",
   "nbconvert_exporter": "python",
   "pygments_lexer": "ipython3",
   "version": "3.9.7"
  }
 },
 "nbformat": 4,
 "nbformat_minor": 5
}
